{
 "cells": [
  {
   "cell_type": "code",
   "execution_count": 1,
   "metadata": {},
   "outputs": [
    {
     "data": {
      "application/vnd.jupyter.widget-view+json": {
       "model_id": "5948eede2af54014bccdd85ce5087830",
       "version_major": 2,
       "version_minor": 0
      },
      "text/plain": [
       "VBox()"
      ]
     },
     "metadata": {},
     "output_type": "display_data"
    },
    {
     "name": "stdout",
     "output_type": "stream",
     "text": [
      "Starting Spark application\n"
     ]
    },
    {
     "data": {
      "text/html": [
       "<table>\n",
       "<tr><th>ID</th><th>YARN Application ID</th><th>Kind</th><th>State</th><th>Spark UI</th><th>Driver log</th><th>Current session?</th></tr><tr><td>0</td><td>application_1589638546048_0001</td><td>pyspark</td><td>idle</td><td><a target=\"_blank\" href=\"http://ip-172-31-55-223.ec2.internal:20888/proxy/application_1589638546048_0001/\">Link</a></td><td><a target=\"_blank\" href=\"http://ip-172-31-63-4.ec2.internal:8042/node/containerlogs/container_1589638546048_0001_01_000001/livy\">Link</a></td><td>✔</td></tr></table>"
      ],
      "text/plain": [
       "<IPython.core.display.HTML object>"
      ]
     },
     "metadata": {},
     "output_type": "display_data"
    },
    {
     "data": {
      "application/vnd.jupyter.widget-view+json": {
       "model_id": "",
       "version_major": 2,
       "version_minor": 0
      },
      "text/plain": [
       "FloatProgress(value=0.0, bar_style='info', description='Progress:', layout=Layout(height='25px', width='50%'),…"
      ]
     },
     "metadata": {},
     "output_type": "display_data"
    },
    {
     "name": "stdout",
     "output_type": "stream",
     "text": [
      "SparkSession available as 'spark'.\n"
     ]
    },
    {
     "data": {
      "application/vnd.jupyter.widget-view+json": {
       "model_id": "",
       "version_major": 2,
       "version_minor": 0
      },
      "text/plain": [
       "FloatProgress(value=0.0, bar_style='info', description='Progress:', layout=Layout(height='25px', width='50%'),…"
      ]
     },
     "metadata": {},
     "output_type": "display_data"
    }
   ],
   "source": [
    "#importar el sparksession\n",
    "from pyspark.sql import SparkSession"
   ]
  },
  {
   "cell_type": "code",
   "execution_count": 2,
   "metadata": {},
   "outputs": [
    {
     "data": {
      "application/vnd.jupyter.widget-view+json": {
       "model_id": "ddd21f4cbdad41d798535bb03b2c38fb",
       "version_major": 2,
       "version_minor": 0
      },
      "text/plain": [
       "VBox()"
      ]
     },
     "metadata": {},
     "output_type": "display_data"
    },
    {
     "data": {
      "application/vnd.jupyter.widget-view+json": {
       "model_id": "",
       "version_major": 2,
       "version_minor": 0
      },
      "text/plain": [
       "FloatProgress(value=0.0, bar_style='info', description='Progress:', layout=Layout(height='25px', width='50%'),…"
      ]
     },
     "metadata": {},
     "output_type": "display_data"
    }
   ],
   "source": [
    "spark=SparkSession.builder.appName('datasetCovid19').getOrCreate()"
   ]
  },
  {
   "cell_type": "code",
   "execution_count": 3,
   "metadata": {},
   "outputs": [
    {
     "data": {
      "application/vnd.jupyter.widget-view+json": {
       "model_id": "780b36e98ba3439fba6276442874094a",
       "version_major": 2,
       "version_minor": 0
      },
      "text/plain": [
       "VBox()"
      ]
     },
     "metadata": {},
     "output_type": "display_data"
    },
    {
     "data": {
      "application/vnd.jupyter.widget-view+json": {
       "model_id": "",
       "version_major": 2,
       "version_minor": 0
      },
      "text/plain": [
       "FloatProgress(value=0.0, bar_style='info', description='Progress:', layout=Layout(height='25px', width='50%'),…"
      ]
     },
     "metadata": {},
     "output_type": "display_data"
    }
   ],
   "source": [
    "df=spark.read.csv('s3://proyecto3-dataset-hcastro-mortiza/time_series_covid19_confirmed_global_iso3_regions.csv',inferSchema=True,header=True)"
   ]
  },
  {
   "cell_type": "code",
   "execution_count": 4,
   "metadata": {},
   "outputs": [
    {
     "data": {
      "application/vnd.jupyter.widget-view+json": {
       "model_id": "6703245d37bf4f07836a6bb49619e3a3",
       "version_major": 2,
       "version_minor": 0
      },
      "text/plain": [
       "VBox()"
      ]
     },
     "metadata": {},
     "output_type": "display_data"
    },
    {
     "data": {
      "application/vnd.jupyter.widget-view+json": {
       "model_id": "",
       "version_major": 2,
       "version_minor": 0
      },
      "text/plain": [
       "FloatProgress(value=0.0, bar_style='info', description='Progress:', layout=Layout(height='25px', width='50%'),…"
      ]
     },
     "metadata": {},
     "output_type": "display_data"
    }
   ],
   "source": [
    "confirmados=spark.read.csv('s3://proyecto3-dataset-hcastro-mortiza/time_series_covid19_confirmed_global.csv',inferSchema=True,header=True)\n",
    "muertos=spark.read.csv('s3://proyecto3-dataset-hcastro-mortiza/time_series_covid19_deaths_global.csv',inferSchema=True,header=True)\n",
    "recuperados=spark.read.csv('s3://proyecto3-dataset-hcastro-mortiza/time_series_covid19_recovered_global.csv',inferSchema=True,header=True)\n",
    "\n",
    "ColombiaDatos=spark.read.csv('s3://proyecto3-dataset-hcastro-mortiza/data Colombia.csv',inferSchema=True,header=True)"
   ]
  },
  {
   "cell_type": "code",
   "execution_count": 6,
   "metadata": {},
   "outputs": [
    {
     "data": {
      "application/vnd.jupyter.widget-view+json": {
       "model_id": "fce47255a74140e2830a976344696dfa",
       "version_major": 2,
       "version_minor": 0
      },
      "text/plain": [
       "VBox()"
      ]
     },
     "metadata": {},
     "output_type": "display_data"
    },
    {
     "data": {
      "application/vnd.jupyter.widget-view+json": {
       "model_id": "",
       "version_major": 2,
       "version_minor": 0
      },
      "text/plain": [
       "FloatProgress(value=0.0, bar_style='info', description='Progress:', layout=Layout(height='25px', width='50%'),…"
      ]
     },
     "metadata": {},
     "output_type": "display_data"
    },
    {
     "name": "stdout",
     "output_type": "stream",
     "text": [
      "['Province/State', 'Country/Region', 'Lat', 'Long', '1/22/20', '1/23/20', '1/24/20', '1/25/20', '1/26/20', '1/27/20', '1/28/20', '1/29/20', '1/30/20', '1/31/20', '2/1/20', '2/2/20', '2/3/20', '2/4/20', '2/5/20', '2/6/20', '2/7/20', '2/8/20', '2/9/20', '2/10/20', '2/11/20', '2/12/20', '2/13/20', '2/14/20', '2/15/20', '2/16/20', '2/17/20', '2/18/20', '2/19/20', '2/20/20', '2/21/20', '2/22/20', '2/23/20', '2/24/20', '2/25/20', '2/26/20', '2/27/20', '2/28/20', '2/29/20', '3/1/20', '3/2/20', '3/3/20', '3/4/20', '3/5/20', '3/6/20', '3/7/20', '3/8/20', '3/9/20', '3/10/20', '3/11/20', '3/12/20', '3/13/20', '3/14/20', '3/15/20', '3/16/20', '3/17/20', '3/18/20', '3/19/20', '3/20/20', '3/21/20', '3/22/20', '3/23/20', '3/24/20', '3/25/20', '3/26/20', '3/27/20', '3/28/20', '3/29/20', '3/30/20', '3/31/20', '4/1/20', '4/2/20', '4/3/20', '4/4/20', '4/5/20', '4/6/20', '4/7/20', '4/8/20', '4/9/20', '4/10/20', '4/11/20', '4/12/20', '4/13/20', '4/14/20', '4/15/20', '4/16/20', '4/17/20', '4/18/20', '4/19/20', '4/20/20', '4/21/20', '4/22/20', '4/23/20', '4/24/20', '4/25/20', '4/26/20', '4/27/20', '4/28/20', '4/29/20', '4/30/20', '5/1/20', '5/2/20', '5/3/20', '5/4/20', '5/5/20', '5/6/20', '5/7/20', '5/8/20']"
     ]
    }
   ],
   "source": [
    "confirmados.columns"
   ]
  },
  {
   "cell_type": "code",
   "execution_count": 37,
   "metadata": {},
   "outputs": [
    {
     "data": {
      "application/vnd.jupyter.widget-view+json": {
       "model_id": "e22d8fe8d80e4c0fa4d3a0c8aab7440a",
       "version_major": 2,
       "version_minor": 0
      },
      "text/plain": [
       "VBox()"
      ]
     },
     "metadata": {},
     "output_type": "display_data"
    },
    {
     "data": {
      "application/vnd.jupyter.widget-view+json": {
       "model_id": "",
       "version_major": 2,
       "version_minor": 0
      },
      "text/plain": [
       "FloatProgress(value=0.0, bar_style='info', description='Progress:', layout=Layout(height='25px', width='50%'),…"
      ]
     },
     "metadata": {},
     "output_type": "display_data"
    },
    {
     "name": "stdout",
     "output_type": "stream",
     "text": [
      "['Province/State', 'Country/Region', 'Lat', 'Long', '1/22/20', '1/23/20', '1/24/20', '1/25/20', '1/26/20', '1/27/20', '1/28/20', '1/29/20', '1/30/20', '1/31/20', '2/1/20', '2/2/20', '2/3/20', '2/4/20', '2/5/20', '2/6/20', '2/7/20', '2/8/20', '2/9/20', '2/10/20', '2/11/20', '2/12/20', '2/13/20', '2/14/20', '2/15/20', '2/16/20', '2/17/20', '2/18/20', '2/19/20', '2/20/20', '2/21/20', '2/22/20', '2/23/20', '2/24/20', '2/25/20', '2/26/20', '2/27/20', '2/28/20', '2/29/20', '3/1/20', '3/2/20', '3/3/20', '3/4/20', '3/5/20', '3/6/20', '3/7/20', '3/8/20', '3/9/20', '3/10/20', '3/11/20', '3/12/20', '3/13/20', '3/14/20', '3/15/20', '3/16/20', '3/17/20', '3/18/20', '3/19/20', '3/20/20', '3/21/20', '3/22/20', '3/23/20', '3/24/20', '3/25/20', '3/26/20', '3/27/20', '3/28/20', '3/29/20', '3/30/20', '3/31/20', '4/1/20', '4/2/20', '4/3/20', '4/4/20', '4/5/20', '4/6/20', '4/7/20', '4/8/20', '4/9/20', '4/10/20', '4/11/20', '4/12/20', '4/13/20', '4/14/20', '4/15/20', '4/16/20', '4/17/20', '4/18/20', '4/19/20', '4/20/20', '4/21/20', '4/22/20', '4/23/20', '4/24/20', '4/25/20', '4/26/20', '4/27/20', '4/28/20', '4/29/20', '4/30/20', '5/1/20', '5/2/20', '5/3/20', '5/4/20', '5/5/20', '5/6/20', '5/7/20', '5/8/20']"
     ]
    }
   ],
   "source": [
    "muertos.columns"
   ]
  },
  {
   "cell_type": "code",
   "execution_count": 6,
   "metadata": {},
   "outputs": [
    {
     "data": {
      "application/vnd.jupyter.widget-view+json": {
       "model_id": "60389eeaaf94482cb888840d1d4454b4",
       "version_major": 2,
       "version_minor": 0
      },
      "text/plain": [
       "VBox()"
      ]
     },
     "metadata": {},
     "output_type": "display_data"
    },
    {
     "data": {
      "application/vnd.jupyter.widget-view+json": {
       "model_id": "",
       "version_major": 2,
       "version_minor": 0
      },
      "text/plain": [
       "FloatProgress(value=0.0, bar_style='info', description='Progress:', layout=Layout(height='25px', width='50%'),…"
      ]
     },
     "metadata": {},
     "output_type": "display_data"
    },
    {
     "name": "stdout",
     "output_type": "stream",
     "text": [
      "['Province/State', 'Country/Region', 'Lat', 'Long', '1/22/20', '1/23/20', '1/24/20', '1/25/20', '1/26/20', '1/27/20', '1/28/20', '1/29/20', '1/30/20', '1/31/20', '2/1/20', '2/2/20', '2/3/20', '2/4/20', '2/5/20', '2/6/20', '2/7/20', '2/8/20', '2/9/20', '2/10/20', '2/11/20', '2/12/20', '2/13/20', '2/14/20', '2/15/20', '2/16/20', '2/17/20', '2/18/20', '2/19/20', '2/20/20', '2/21/20', '2/22/20', '2/23/20', '2/24/20', '2/25/20', '2/26/20', '2/27/20', '2/28/20', '2/29/20', '3/1/20', '3/2/20', '3/3/20', '3/4/20', '3/5/20', '3/6/20', '3/7/20', '3/8/20', '3/9/20', '3/10/20', '3/11/20', '3/12/20', '3/13/20', '3/14/20', '3/15/20', '3/16/20', '3/17/20', '3/18/20', '3/19/20', '3/20/20', '3/21/20', '3/22/20', '3/23/20', '3/24/20', '3/25/20', '3/26/20', '3/27/20', '3/28/20', '3/29/20', '3/30/20', '3/31/20', '4/1/20', '4/2/20', '4/3/20', '4/4/20', '4/5/20', '4/6/20', '4/7/20', '4/8/20', '4/9/20', '4/10/20', '4/11/20', '4/12/20', '4/13/20', '4/14/20', '4/15/20', '4/16/20', '4/17/20', '4/18/20', '4/19/20', '4/20/20', '4/21/20', '4/22/20', '4/23/20', '4/24/20', '4/25/20', '4/26/20', '4/27/20', '4/28/20', '4/29/20', '4/30/20', '5/1/20', '5/2/20', '5/3/20', '5/4/20', '5/5/20', '5/6/20', '5/7/20', '5/8/20']"
     ]
    }
   ],
   "source": [
    "recuperados.columns"
   ]
  },
  {
   "cell_type": "code",
   "execution_count": 8,
   "metadata": {},
   "outputs": [
    {
     "data": {
      "application/vnd.jupyter.widget-view+json": {
       "model_id": "d6877fcc6724411b9ac19621c34dd2d8",
       "version_major": 2,
       "version_minor": 0
      },
      "text/plain": [
       "VBox()"
      ]
     },
     "metadata": {},
     "output_type": "display_data"
    },
    {
     "data": {
      "application/vnd.jupyter.widget-view+json": {
       "model_id": "",
       "version_major": 2,
       "version_minor": 0
      },
      "text/plain": [
       "FloatProgress(value=0.0, bar_style='info', description='Progress:', layout=Layout(height='25px', width='50%'),…"
      ]
     },
     "metadata": {},
     "output_type": "display_data"
    },
    {
     "name": "stdout",
     "output_type": "stream",
     "text": [
      "['ID de caso', 'Fecha de notificación', 'Codigo DIVIPOLA', 'Ciudad de ubicación', 'Departamento o Distrito ', 'atención', 'Edad', 'Sexo', 'Tipo', 'Estado', 'País de procedencia', 'FIS', 'Fecha de muerte', 'Fecha diagnostico', 'Fecha recuperado', 'fecha reporte web']"
     ]
    }
   ],
   "source": [
    "ColombiaDatos.columns"
   ]
  },
  {
   "cell_type": "code",
   "execution_count": 5,
   "metadata": {},
   "outputs": [
    {
     "data": {
      "application/vnd.jupyter.widget-view+json": {
       "model_id": "95fa15090016428990bec1c85cd8b183",
       "version_major": 2,
       "version_minor": 0
      },
      "text/plain": [
       "VBox()"
      ]
     },
     "metadata": {},
     "output_type": "display_data"
    },
    {
     "data": {
      "application/vnd.jupyter.widget-view+json": {
       "model_id": "",
       "version_major": 2,
       "version_minor": 0
      },
      "text/plain": [
       "FloatProgress(value=0.0, bar_style='info', description='Progress:', layout=Layout(height='25px', width='50%'),…"
      ]
     },
     "metadata": {},
     "output_type": "display_data"
    }
   ],
   "source": [
    "from pyspark.sql.types import StringType,DoubleType,IntegerType"
   ]
  },
  {
   "cell_type": "code",
   "execution_count": 6,
   "metadata": {},
   "outputs": [
    {
     "data": {
      "application/vnd.jupyter.widget-view+json": {
       "model_id": "2c20b1e3281f40d1b6fc4bfb8fa66859",
       "version_major": 2,
       "version_minor": 0
      },
      "text/plain": [
       "VBox()"
      ]
     },
     "metadata": {},
     "output_type": "display_data"
    },
    {
     "data": {
      "application/vnd.jupyter.widget-view+json": {
       "model_id": "",
       "version_major": 2,
       "version_minor": 0
      },
      "text/plain": [
       "FloatProgress(value=0.0, bar_style='info', description='Progress:', layout=Layout(height='25px', width='50%'),…"
      ]
     },
     "metadata": {},
     "output_type": "display_data"
    },
    {
     "name": "stdout",
     "output_type": "stream",
     "text": [
      "+-------+-----------------+-----------+------------+------------+------------+------------+------------+------------+------------+------------+------------+------------+-----------+-----------+-----------+-----------+-----------+-----------+-----------+-----------+-----------+------------+------------+------------+------------+------------+------------+------------+------------+------------+------------+------------+------------+------------+------------+------------+------------+------------+------------+------------+------------+-----------+-----------+-----------+-----------+-----------+-----------+-----------+-----------+-----------+------------+------------+------------+------------+------------+------------+------------+------------+------------+------------+------------+------------+------------+------------+------------+------------+------------+------------+------------+------------+------------+------------+-----------+-----------+-----------+-----------+-----------+-----------+-----------+-----------+-----------+------------+------------+------------+------------+------------+------------+------------+------------+------------+------------+------------+------------+------------+------------+------------+------------+------------+------------+------------+------------+------------+-----------+-----------+-----------+-----------+-----------+-----------+-----------+-----------+\n",
      "|1/23/20|         sum(Lat)|  sum(Long)|sum(1/22/20)|sum(1/23/20)|sum(1/24/20)|sum(1/25/20)|sum(1/26/20)|sum(1/27/20)|sum(1/28/20)|sum(1/29/20)|sum(1/30/20)|sum(1/31/20)|sum(2/1/20)|sum(2/2/20)|sum(2/3/20)|sum(2/4/20)|sum(2/5/20)|sum(2/6/20)|sum(2/7/20)|sum(2/8/20)|sum(2/9/20)|sum(2/10/20)|sum(2/11/20)|sum(2/12/20)|sum(2/13/20)|sum(2/14/20)|sum(2/15/20)|sum(2/16/20)|sum(2/17/20)|sum(2/18/20)|sum(2/19/20)|sum(2/20/20)|sum(2/21/20)|sum(2/22/20)|sum(2/23/20)|sum(2/24/20)|sum(2/25/20)|sum(2/26/20)|sum(2/27/20)|sum(2/28/20)|sum(2/29/20)|sum(3/1/20)|sum(3/2/20)|sum(3/3/20)|sum(3/4/20)|sum(3/5/20)|sum(3/6/20)|sum(3/7/20)|sum(3/8/20)|sum(3/9/20)|sum(3/10/20)|sum(3/11/20)|sum(3/12/20)|sum(3/13/20)|sum(3/14/20)|sum(3/15/20)|sum(3/16/20)|sum(3/17/20)|sum(3/18/20)|sum(3/19/20)|sum(3/20/20)|sum(3/21/20)|sum(3/22/20)|sum(3/23/20)|sum(3/24/20)|sum(3/25/20)|sum(3/26/20)|sum(3/27/20)|sum(3/28/20)|sum(3/29/20)|sum(3/30/20)|sum(3/31/20)|sum(4/1/20)|sum(4/2/20)|sum(4/3/20)|sum(4/4/20)|sum(4/5/20)|sum(4/6/20)|sum(4/7/20)|sum(4/8/20)|sum(4/9/20)|sum(4/10/20)|sum(4/11/20)|sum(4/12/20)|sum(4/13/20)|sum(4/14/20)|sum(4/15/20)|sum(4/16/20)|sum(4/17/20)|sum(4/18/20)|sum(4/19/20)|sum(4/20/20)|sum(4/21/20)|sum(4/22/20)|sum(4/23/20)|sum(4/24/20)|sum(4/25/20)|sum(4/26/20)|sum(4/27/20)|sum(4/28/20)|sum(4/29/20)|sum(4/30/20)|sum(5/1/20)|sum(5/2/20)|sum(5/3/20)|sum(5/4/20)|sum(5/5/20)|sum(5/6/20)|sum(5/7/20)|sum(5/8/20)|\n",
      "+-------+-----------------+-----------+------------+------------+------------+------------+------------+------------+------------+------------+------------+------------+-----------+-----------+-----------+-----------+-----------+-----------+-----------+-----------+-----------+------------+------------+------------+------------+------------+------------+------------+------------+------------+------------+------------+------------+------------+------------+------------+------------+------------+------------+------------+------------+-----------+-----------+-----------+-----------+-----------+-----------+-----------+-----------+-----------+------------+------------+------------+------------+------------+------------+------------+------------+------------+------------+------------+------------+------------+------------+------------+------------+------------+------------+------------+------------+------------+------------+-----------+-----------+-----------+-----------+-----------+-----------+-----------+-----------+-----------+------------+------------+------------+------------+------------+------------+------------+------------+------------+------------+------------+------------+------------+------------+------------+------------+------------+------------+------------+------------+------------+-----------+-----------+-----------+-----------+-----------+-----------+-----------+-----------+\n",
      "|      1|           39.549|   116.1306|           0|           1|           1|           1|           1|           1|           1|           1|           1|           1|          1|          1|          1|          1|          1|          1|          1|          1|          2|           2|           2|           2|           3|           3|           3|           3|           3|           4|           4|           5|           5|           6|           6|           6|           6|           6|           6|           6|           6|          6|          6|          6|          6|          6|          6|          6|          6|          6|           6|           6|           6|           6|           6|           6|           6|           6|           6|           6|           6|           6|           6|           6|           6|           6|           6|           6|           6|           6|           6|           6|          6|          6|          6|          6|          6|          6|          6|          6|          6|           6|           6|           6|           6|           6|           6|           6|           6|           6|           6|           6|           6|           6|           6|           6|           6|           6|           6|           6|           6|           6|          6|          6|          6|          6|          6|          6|          6|          6|\n",
      "|     17|          30.9756|   112.2707|          17|          17|          24|          40|          52|          76|         125|         125|         162|         204|        249|        350|        414|        479|        549|        618|        699|        780|        871|         974|        1068|        1068|        1310|        1457|        1596|        1696|        1789|        1921|        2029|        2144|        2144|        2346|        2346|        2495|        2563|        2615|        2641|        2682|        2727|       2761|       2803|       2835|       2871|       2902|       2931|       2959|       2986|       3008|        3024|        3046|        3056|        3062|        3075|        3085|        3099|        3111|        3122|        3130|        3133|        3139|        3153|        3153|        3160|        3163|        3169|        3174|        3177|        3182|        3186|        3187|       3193|       3199|       3203|       3207|       3210|       3212|       3212|       3213|       3215|        3216|        3219|        3219|        3221|        3221|        3222|        3222|        4512|        4512|        4512|        4512|        4512|        4512|        4512|        4512|        4512|        4512|        4512|        4512|        4512|        4512|       4512|       4512|       4512|       4512|       4512|       4512|       4512|       4512|\n",
      "|      0|5584.464950999999|5738.643354|           0|           0|           1|           1|           3|           5|           5|           7|           8|           8|          9|         11|         11|         12|         14|         15|         19|         25|         33|          37|          43|          48|          58|          63|          67|          71|          76|          82|          89|          98|         102|         106|         117|         128|         139|         149|         167|         184|         208|        229|        276|        319|        377|        439|        522|        593|        809|        973|        1233|        1562|        1660|        2340|        2749|        3381|        4045|        4839|        5695|        6810|        8283|        9980|       11666|       13600|       15848|       18616|       21613|       25108|       28614|       32135|       36247|       41045|      46476|      52612|      58603|      64768|      69860|      75549|      83444|      90135|      97661|      104891|      110921|      116628|      122334|      129212|      137430|      144718|      152286|      158696|      163254|      168579|      175717|      182394|      189147|      195479|      201669|      205382|      209926|      216283|      223147|      228842|     234101|     239295|     242952|     247019|     252721|     259313|     265049|     270380|\n",
      "+-------+-----------------+-----------+------------+------------+------------+------------+------------+------------+------------+------------+------------+------------+-----------+-----------+-----------+-----------+-----------+-----------+-----------+-----------+-----------+------------+------------+------------+------------+------------+------------+------------+------------+------------+------------+------------+------------+------------+------------+------------+------------+------------+------------+------------+------------+-----------+-----------+-----------+-----------+-----------+-----------+-----------+-----------+-----------+------------+------------+------------+------------+------------+------------+------------+------------+------------+------------+------------+------------+------------+------------+------------+------------+------------+------------+------------+------------+------------+------------+-----------+-----------+-----------+-----------+-----------+-----------+-----------+-----------+-----------+------------+------------+------------+------------+------------+------------+------------+------------+------------+------------+------------+------------+------------+------------+------------+------------+------------+------------+------------+------------+------------+-----------+-----------+-----------+-----------+-----------+-----------+-----------+-----------+"
     ]
    }
   ],
   "source": [
    "muertos.groupBy('1/23/20').sum().show()"
   ]
  },
  {
   "cell_type": "code",
   "execution_count": 8,
   "metadata": {},
   "outputs": [
    {
     "data": {
      "application/vnd.jupyter.widget-view+json": {
       "model_id": "14546601851541c884a20f248f417c44",
       "version_major": 2,
       "version_minor": 0
      },
      "text/plain": [
       "VBox()"
      ]
     },
     "metadata": {},
     "output_type": "display_data"
    },
    {
     "data": {
      "application/vnd.jupyter.widget-view+json": {
       "model_id": "",
       "version_major": 2,
       "version_minor": 0
      },
      "text/plain": [
       "FloatProgress(value=0.0, bar_style='info', description='Progress:', layout=Layout(height='25px', width='50%'),…"
      ]
     },
     "metadata": {},
     "output_type": "display_data"
    },
    {
     "name": "stderr",
     "output_type": "stream",
     "text": [
      "An error occurred while calling o135.showString. Trace:\n",
      "py4j.Py4JException: Method showString([class java.lang.String, class java.lang.Integer, class java.lang.Boolean]) does not exist\n",
      "\tat py4j.reflection.ReflectionEngine.getMethod(ReflectionEngine.java:318)\n",
      "\tat py4j.reflection.ReflectionEngine.getMethod(ReflectionEngine.java:326)\n",
      "\tat py4j.Gateway.invoke(Gateway.java:274)\n",
      "\tat py4j.commands.AbstractCommand.invokeMethod(AbstractCommand.java:132)\n",
      "\tat py4j.commands.CallCommand.execute(CallCommand.java:79)\n",
      "\tat py4j.GatewayConnection.run(GatewayConnection.java:238)\n",
      "\tat java.lang.Thread.run(Thread.java:748)\n",
      "\n",
      "\n",
      "Traceback (most recent call last):\n",
      "  File \"/usr/lib/spark/python/lib/pyspark.zip/pyspark/sql/dataframe.py\", line 380, in show\n",
      "    print(self._jdf.showString(n, 20, vertical))\n",
      "  File \"/usr/lib/spark/python/lib/py4j-0.10.7-src.zip/py4j/java_gateway.py\", line 1257, in __call__\n",
      "    answer, self.gateway_client, self.target_id, self.name)\n",
      "  File \"/usr/lib/spark/python/lib/pyspark.zip/pyspark/sql/utils.py\", line 63, in deco\n",
      "    return f(*a, **kw)\n",
      "  File \"/usr/lib/spark/python/lib/py4j-0.10.7-src.zip/py4j/protocol.py\", line 332, in get_return_value\n",
      "    format(target_id, \".\", name, value))\n",
      "py4j.protocol.Py4JError: An error occurred while calling o135.showString. Trace:\n",
      "py4j.Py4JException: Method showString([class java.lang.String, class java.lang.Integer, class java.lang.Boolean]) does not exist\n",
      "\tat py4j.reflection.ReflectionEngine.getMethod(ReflectionEngine.java:318)\n",
      "\tat py4j.reflection.ReflectionEngine.getMethod(ReflectionEngine.java:326)\n",
      "\tat py4j.Gateway.invoke(Gateway.java:274)\n",
      "\tat py4j.commands.AbstractCommand.invokeMethod(AbstractCommand.java:132)\n",
      "\tat py4j.commands.CallCommand.execute(CallCommand.java:79)\n",
      "\tat py4j.GatewayConnection.run(GatewayConnection.java:238)\n",
      "\tat java.lang.Thread.run(Thread.java:748)\n",
      "\n",
      "\n",
      "\n"
     ]
    }
   ],
   "source": [
    "muertos.groupBy('1/23/20').sum().show('1/23/20')"
   ]
  },
  {
   "cell_type": "code",
   "execution_count": 9,
   "metadata": {},
   "outputs": [
    {
     "data": {
      "application/vnd.jupyter.widget-view+json": {
       "model_id": "75b7b915f2e6421eb83e960a1b008911",
       "version_major": 2,
       "version_minor": 0
      },
      "text/plain": [
       "VBox()"
      ]
     },
     "metadata": {},
     "output_type": "display_data"
    },
    {
     "data": {
      "application/vnd.jupyter.widget-view+json": {
       "model_id": "",
       "version_major": 2,
       "version_minor": 0
      },
      "text/plain": [
       "FloatProgress(value=0.0, bar_style='info', description='Progress:', layout=Layout(height='25px', width='50%'),…"
      ]
     },
     "metadata": {},
     "output_type": "display_data"
    }
   ],
   "source": [
    "from pyspark.sql.types import StringType,DoubleType,IntegerType"
   ]
  },
  {
   "cell_type": "code",
   "execution_count": 12,
   "metadata": {},
   "outputs": [
    {
     "data": {
      "application/vnd.jupyter.widget-view+json": {
       "model_id": "81dbefbf745842f29ac88770088611bb",
       "version_major": 2,
       "version_minor": 0
      },
      "text/plain": [
       "VBox()"
      ]
     },
     "metadata": {},
     "output_type": "display_data"
    },
    {
     "data": {
      "application/vnd.jupyter.widget-view+json": {
       "model_id": "",
       "version_major": 2,
       "version_minor": 0
      },
      "text/plain": [
       "FloatProgress(value=0.0, bar_style='info', description='Progress:', layout=Layout(height='25px', width='50%'),…"
      ]
     },
     "metadata": {},
     "output_type": "display_data"
    },
    {
     "name": "stderr",
     "output_type": "stream",
     "text": [
      "list index out of range\n",
      "Traceback (most recent call last):\n",
      "IndexError: list index out of range\n",
      "\n"
     ]
    }
   ],
   "source": [
    "muertos.groupBy().sum().collect()[80][0]"
   ]
  },
  {
   "cell_type": "code",
   "execution_count": 13,
   "metadata": {},
   "outputs": [
    {
     "data": {
      "application/vnd.jupyter.widget-view+json": {
       "model_id": "3c585e041c044d60944ecc885f9052f7",
       "version_major": 2,
       "version_minor": 0
      },
      "text/plain": [
       "VBox()"
      ]
     },
     "metadata": {},
     "output_type": "display_data"
    },
    {
     "data": {
      "application/vnd.jupyter.widget-view+json": {
       "model_id": "",
       "version_major": 2,
       "version_minor": 0
      },
      "text/plain": [
       "FloatProgress(value=0.0, bar_style='info', description='Progress:', layout=Layout(height='25px', width='50%'),…"
      ]
     },
     "metadata": {},
     "output_type": "display_data"
    },
    {
     "name": "stdout",
     "output_type": "stream",
     "text": [
      "555"
     ]
    }
   ],
   "source": [
    "df.groupBy().sum().collect()[0][0]"
   ]
  },
  {
   "cell_type": "code",
   "execution_count": 13,
   "metadata": {},
   "outputs": [
    {
     "data": {
      "application/vnd.jupyter.widget-view+json": {
       "model_id": "52720f9919c64bb79590ca2794d2c502",
       "version_major": 2,
       "version_minor": 0
      },
      "text/plain": [
       "VBox()"
      ]
     },
     "metadata": {},
     "output_type": "display_data"
    },
    {
     "data": {
      "application/vnd.jupyter.widget-view+json": {
       "model_id": "",
       "version_major": 2,
       "version_minor": 0
      },
      "text/plain": [
       "FloatProgress(value=0.0, bar_style='info', description='Progress:', layout=Layout(height='25px', width='50%'),…"
      ]
     },
     "metadata": {},
     "output_type": "display_data"
    },
    {
     "name": "stderr",
     "output_type": "stream",
     "text": [
      "list index out of range\n",
      "Traceback (most recent call last):\n",
      "IndexError: list index out of range\n",
      "\n"
     ]
    }
   ],
   "source": [
    "muertos.groupBy().sum().collect()[2][0]"
   ]
  },
  {
   "cell_type": "code",
   "execution_count": 10,
   "metadata": {},
   "outputs": [
    {
     "data": {
      "application/vnd.jupyter.widget-view+json": {
       "model_id": "c2f23ae5b518405f93e3444ad4e9935e",
       "version_major": 2,
       "version_minor": 0
      },
      "text/plain": [
       "VBox()"
      ]
     },
     "metadata": {},
     "output_type": "display_data"
    },
    {
     "data": {
      "application/vnd.jupyter.widget-view+json": {
       "model_id": "",
       "version_major": 2,
       "version_minor": 0
      },
      "text/plain": [
       "FloatProgress(value=0.0, bar_style='info', description='Progress:', layout=Layout(height='25px', width='50%'),…"
      ]
     },
     "metadata": {},
     "output_type": "display_data"
    }
   ],
   "source": [
    "from pyspark.sql.functions import sum"
   ]
  },
  {
   "cell_type": "code",
   "execution_count": 12,
   "metadata": {},
   "outputs": [
    {
     "data": {
      "application/vnd.jupyter.widget-view+json": {
       "model_id": "15f62b0fbc56487ab2fbf72b5d450f20",
       "version_major": 2,
       "version_minor": 0
      },
      "text/plain": [
       "VBox()"
      ]
     },
     "metadata": {},
     "output_type": "display_data"
    },
    {
     "data": {
      "application/vnd.jupyter.widget-view+json": {
       "model_id": "",
       "version_major": 2,
       "version_minor": 0
      },
      "text/plain": [
       "FloatProgress(value=0.0, bar_style='info', description='Progress:', layout=Layout(height='25px', width='50%'),…"
      ]
     },
     "metadata": {},
     "output_type": "display_data"
    },
    {
     "name": "stdout",
     "output_type": "stream",
     "text": [
      "+-----------------+\n",
      "|sum(sum(4/27/20))|\n",
      "+-----------------+\n",
      "|          3023722|\n",
      "+-----------------+"
     ]
    }
   ],
   "source": [
    "confirmadosAyer=confirmados.groupby('Country/Region').sum('4/27/20')\n",
    "casosTotales=confirmadosAyer.groupby().sum('sum(4/27/20)')\n",
    "casosTotales.show()"
   ]
  },
  {
   "cell_type": "code",
   "execution_count": 13,
   "metadata": {},
   "outputs": [
    {
     "data": {
      "application/vnd.jupyter.widget-view+json": {
       "model_id": "4834c4944a36474faa8df131a1b491b3",
       "version_major": 2,
       "version_minor": 0
      },
      "text/plain": [
       "VBox()"
      ]
     },
     "metadata": {},
     "output_type": "display_data"
    },
    {
     "data": {
      "application/vnd.jupyter.widget-view+json": {
       "model_id": "",
       "version_major": 2,
       "version_minor": 0
      },
      "text/plain": [
       "FloatProgress(value=0.0, bar_style='info', description='Progress:', layout=Layout(height='25px', width='50%'),…"
      ]
     },
     "metadata": {},
     "output_type": "display_data"
    },
    {
     "name": "stdout",
     "output_type": "stream",
     "text": [
      "+-----------------+\n",
      "|sum(sum(4/27/20))|\n",
      "+-----------------+\n",
      "|           214444|\n",
      "+-----------------+"
     ]
    }
   ],
   "source": [
    "muertosAyer=muertos.groupby('Country/Region').sum('4/27/20')\n",
    "muertosTotales=muertosAyer.groupby().sum('sum(4/27/20)')\n",
    "muertosTotales.show()\n",
    "#muertosTotales.coalesce(1).write.save('s3://proyecto3-dataset-hcastro-mortiza/test/muertosTotalesConfirmados', format='csv', header=False)"
   ]
  },
  {
   "cell_type": "code",
   "execution_count": 14,
   "metadata": {},
   "outputs": [
    {
     "data": {
      "application/vnd.jupyter.widget-view+json": {
       "model_id": "4f17c0283e744b66b4be788edd414099",
       "version_major": 2,
       "version_minor": 0
      },
      "text/plain": [
       "VBox()"
      ]
     },
     "metadata": {},
     "output_type": "display_data"
    },
    {
     "data": {
      "application/vnd.jupyter.widget-view+json": {
       "model_id": "",
       "version_major": 2,
       "version_minor": 0
      },
      "text/plain": [
       "FloatProgress(value=0.0, bar_style='info', description='Progress:', layout=Layout(height='25px', width='50%'),…"
      ]
     },
     "metadata": {},
     "output_type": "display_data"
    },
    {
     "name": "stdout",
     "output_type": "stream",
     "text": [
      "+-----------------+\n",
      "|sum(sum(4/27/20))|\n",
      "+-----------------+\n",
      "|           873677|\n",
      "+-----------------+"
     ]
    }
   ],
   "source": [
    "RecuperadosAyer=recuperados.groupby('Country/Region').sum('4/27/20')\n",
    "RecuperadosTotales=RecuperadosAyer.groupby().sum('sum(4/27/20)')\n",
    "RecuperadosTotales.show()\n",
    "#RecuperadosTotales.coalesce(1).write.save('s3://proyecto3-dataset-hcastro-mortiza/test/recuperadosTotalesConfirmados', format='csv', header=False)"
   ]
  },
  {
   "cell_type": "code",
   "execution_count": 15,
   "metadata": {},
   "outputs": [
    {
     "data": {
      "application/vnd.jupyter.widget-view+json": {
       "model_id": "cec4605db5554724b6a98507d81965c4",
       "version_major": 2,
       "version_minor": 0
      },
      "text/plain": [
       "VBox()"
      ]
     },
     "metadata": {},
     "output_type": "display_data"
    },
    {
     "data": {
      "application/vnd.jupyter.widget-view+json": {
       "model_id": "",
       "version_major": 2,
       "version_minor": 0
      },
      "text/plain": [
       "FloatProgress(value=0.0, bar_style='info', description='Progress:', layout=Layout(height='25px', width='50%'),…"
      ]
     },
     "metadata": {},
     "output_type": "display_data"
    }
   ],
   "source": [
    "type(confirmados)\n",
    "instancia_confirmados=confirmados.groupby('Country/Region').sum('4/27/20')\n",
    "muertos_instancia=muertos.groupby('Country/Region').sum('4/27/20')\n",
    "recuperados_instancia=recuperados.groupby('Country/Region').sum('4/27/20')\n",
    "#save the dataframe as single csv \n"
   ]
  },
  {
   "cell_type": "code",
   "execution_count": 72,
   "metadata": {},
   "outputs": [
    {
     "data": {
      "application/vnd.jupyter.widget-view+json": {
       "model_id": "82871dfe9b2b4e4cb96b46045d8873c7",
       "version_major": 2,
       "version_minor": 0
      },
      "text/plain": [
       "VBox()"
      ]
     },
     "metadata": {},
     "output_type": "display_data"
    },
    {
     "data": {
      "application/vnd.jupyter.widget-view+json": {
       "model_id": "",
       "version_major": 2,
       "version_minor": 0
      },
      "text/plain": [
       "FloatProgress(value=0.0, bar_style='info', description='Progress:', layout=Layout(height='25px', width='50%'),…"
      ]
     },
     "metadata": {},
     "output_type": "display_data"
    },
    {
     "name": "stderr",
     "output_type": "stream",
     "text": [
      "'path s3://proyecto3-dataset-hcastro-mortiza/test already exists.;'\n",
      "Traceback (most recent call last):\n",
      "  File \"/usr/lib/spark/python/lib/pyspark.zip/pyspark/sql/readwriter.py\", line 738, in save\n",
      "    self._jwrite.save(path)\n",
      "  File \"/usr/lib/spark/python/lib/py4j-0.10.7-src.zip/py4j/java_gateway.py\", line 1257, in __call__\n",
      "    answer, self.gateway_client, self.target_id, self.name)\n",
      "  File \"/usr/lib/spark/python/lib/pyspark.zip/pyspark/sql/utils.py\", line 69, in deco\n",
      "    raise AnalysisException(s.split(': ', 1)[1], stackTrace)\n",
      "pyspark.sql.utils.AnalysisException: 'path s3://proyecto3-dataset-hcastro-mortiza/test already exists.;'\n",
      "\n"
     ]
    }
   ],
   "source": [
    "write_uri='s3://proyecto3-dataset-hcastro-mortiza/test'\n",
    "instancia_confirmados.coalesce(1).write.format(\"csv\").option(\"header\",\"true\").save(write_uri)"
   ]
  },
  {
   "cell_type": "code",
   "execution_count": 94,
   "metadata": {},
   "outputs": [
    {
     "data": {
      "application/vnd.jupyter.widget-view+json": {
       "model_id": "27b6c92430ab46559b0d3c99c9193aed",
       "version_major": 2,
       "version_minor": 0
      },
      "text/plain": [
       "VBox()"
      ]
     },
     "metadata": {},
     "output_type": "display_data"
    },
    {
     "data": {
      "application/vnd.jupyter.widget-view+json": {
       "model_id": "",
       "version_major": 2,
       "version_minor": 0
      },
      "text/plain": [
       "FloatProgress(value=0.0, bar_style='info', description='Progress:', layout=Layout(height='25px', width='50%'),…"
      ]
     },
     "metadata": {},
     "output_type": "display_data"
    }
   ],
   "source": [
    "instancia_confirmados.coalesce(1).write.save('s3://proyecto3-dataset-hcastro-mortiza/test/casos_confirmados_pais', format='csv', header=True)\n",
    "muertos_instancia.coalesce(1).write.save('s3://proyecto3-dataset-hcastro-mortiza/test/casos_muertos_pais', format='csv', header=True)\n",
    "recuperados_instancia.coalesce(1).write.save('s3://proyecto3-dataset-hcastro-mortiza/test/casos_recuperados_pais.csv', format='csv', header=True)"
   ]
  },
  {
   "cell_type": "code",
   "execution_count": 16,
   "metadata": {},
   "outputs": [
    {
     "data": {
      "application/vnd.jupyter.widget-view+json": {
       "model_id": "278b00b0ba434f1cbf67d9179ccdab87",
       "version_major": 2,
       "version_minor": 0
      },
      "text/plain": [
       "VBox()"
      ]
     },
     "metadata": {},
     "output_type": "display_data"
    },
    {
     "data": {
      "application/vnd.jupyter.widget-view+json": {
       "model_id": "",
       "version_major": 2,
       "version_minor": 0
      },
      "text/plain": [
       "FloatProgress(value=0.0, bar_style='info', description='Progress:', layout=Layout(height='25px', width='50%'),…"
      ]
     },
     "metadata": {},
     "output_type": "display_data"
    },
    {
     "name": "stdout",
     "output_type": "stream",
     "text": [
      "+--------------+------------+------+--------------------+\n",
      "|Country/Region|sum(4/27/20)| total|             percent|\n",
      "+--------------+------------+------+--------------------+\n",
      "|      Paraguay|           9|214444|0.004196899889947959|\n",
      "|        Russia|         794|214444|  0.3702598347354088|\n",
      "|       Senegal|           9|214444|0.004196899889947959|\n",
      "|        Guyana|           8|214444|0.003730577679953741|\n",
      "|      Djibouti|           2|214444|9.326444199884352E-4|\n",
      "|      Malaysia|          99|214444| 0.04616589878942754|\n",
      "|     Singapore|          14|214444|0.006528510939919047|\n",
      "|          Fiji|           0|214444|                 0.0|\n",
      "|        Turkey|        2900|214444|  1.3523344089832312|\n",
      "|        Malawi|           3|214444|0.001398966629982...|\n",
      "|Western Sahara|           0|214444|                 0.0|\n",
      "|          Iraq|          88|214444| 0.04103635447949115|\n",
      "|       Germany|        6126|214444|   2.856689858424577|\n",
      "|       Comoros|           0|214444|                 0.0|\n",
      "|   Afghanistan|          57|214444|0.026580365969670405|\n",
      "|      Cambodia|           0|214444|                 0.0|\n",
      "|        Jordan|           7|214444|0.003264255469959...|\n",
      "|      Maldives|           0|214444|                 0.0|\n",
      "|        Rwanda|           0|214444|                 0.0|\n",
      "|         Sudan|          22|214444|0.010259088619872788|\n",
      "+--------------+------------+------+--------------------+\n",
      "only showing top 20 rows"
     ]
    }
   ],
   "source": [
    "import pyspark.sql.functions as f\n",
    "from pyspark.sql.window import Window\n",
    "df= muertos.groupby('Country/Region').sum('4/27/20')\n",
    "df = df\\\n",
    "  .withColumn('total', f.sum('sum(4/27/20)').over(Window.partitionBy()))\\\n",
    "  .withColumn('percent', (f.col('sum(4/27/20)')/f.col('total'))*100)\n",
    "df.show()"
   ]
  },
  {
   "cell_type": "code",
   "execution_count": 25,
   "metadata": {},
   "outputs": [
    {
     "data": {
      "application/vnd.jupyter.widget-view+json": {
       "model_id": "5309821c0b6144388e05bf7eba5b30a9",
       "version_major": 2,
       "version_minor": 0
      },
      "text/plain": [
       "VBox()"
      ]
     },
     "metadata": {},
     "output_type": "display_data"
    },
    {
     "data": {
      "application/vnd.jupyter.widget-view+json": {
       "model_id": "",
       "version_major": 2,
       "version_minor": 0
      },
      "text/plain": [
       "FloatProgress(value=0.0, bar_style='info', description='Progress:', layout=Layout(height='25px', width='50%'),…"
      ]
     },
     "metadata": {},
     "output_type": "display_data"
    },
    {
     "name": "stderr",
     "output_type": "stream",
     "text": [
      "'int' object has no attribute 'columns'\n",
      "Traceback (most recent call last):\n",
      "AttributeError: 'int' object has no attribute 'columns'\n",
      "\n"
     ]
    }
   ],
   "source": [
    "Columnas_mundial = muertos.columns\n",
    "Columnas_mundial.pop(0)\n",
    "Columnas_mundial.pop(0)\n",
    "Columnas_mundial.pop(0)\n",
    "Columnas_mundial.pop(0)\n",
    "muertosFiltrada=  muertos.select(Columnas_mundial).groupBy().sum()\n",
    "muertosFiltrada.coalesce(1).write.save('s3://proyecto3-dataset-hcastro-mortiza/test/muertos Seguimiento', format='csv', header=True)"
   ]
  },
  {
   "cell_type": "code",
   "execution_count": 28,
   "metadata": {},
   "outputs": [
    {
     "data": {
      "application/vnd.jupyter.widget-view+json": {
       "model_id": "92819601989b44b6b018e06daed07df1",
       "version_major": 2,
       "version_minor": 0
      },
      "text/plain": [
       "VBox()"
      ]
     },
     "metadata": {},
     "output_type": "display_data"
    },
    {
     "data": {
      "application/vnd.jupyter.widget-view+json": {
       "model_id": "",
       "version_major": 2,
       "version_minor": 0
      },
      "text/plain": [
       "FloatProgress(value=0.0, bar_style='info', description='Progress:', layout=Layout(height='25px', width='50%'),…"
      ]
     },
     "metadata": {},
     "output_type": "display_data"
    }
   ],
   "source": [
    "import pyspark.sql.functions as f\n",
    "from pyspark.sql.window import Window\n",
    "df= recuperados.groupby('Country/Region').sum('4/27/20')\n",
    "Recuperados_Filtrados = df\\\n",
    "  .withColumn('total', f.sum('sum(4/27/20)').over(Window.partitionBy()))\\\n",
    "  .withColumn('percent', (f.col('sum(4/27/20)')/f.col('total'))*100)\n"
   ]
  },
  {
   "cell_type": "code",
   "execution_count": 30,
   "metadata": {},
   "outputs": [
    {
     "data": {
      "application/vnd.jupyter.widget-view+json": {
       "model_id": "05145abe70c54fa2878ff60d5c6b8d7c",
       "version_major": 2,
       "version_minor": 0
      },
      "text/plain": [
       "VBox()"
      ]
     },
     "metadata": {},
     "output_type": "display_data"
    },
    {
     "data": {
      "application/vnd.jupyter.widget-view+json": {
       "model_id": "",
       "version_major": 2,
       "version_minor": 0
      },
      "text/plain": [
       "FloatProgress(value=0.0, bar_style='info', description='Progress:', layout=Layout(height='25px', width='50%'),…"
      ]
     },
     "metadata": {},
     "output_type": "display_data"
    }
   ],
   "source": [
    "Recuperados_Filtrados.coalesce(1).write.save('s3://proyecto3-dataset-hcastro-mortiza/test/casos_Recuperados_porcentaje', format='csv', header=True)"
   ]
  },
  {
   "cell_type": "code",
   "execution_count": null,
   "metadata": {},
   "outputs": [],
   "source": []
  },
  {
   "cell_type": "code",
   "execution_count": 78,
   "metadata": {},
   "outputs": [
    {
     "data": {
      "application/vnd.jupyter.widget-view+json": {
       "model_id": "8b79de18540b456fbbdcea110770acf3",
       "version_major": 2,
       "version_minor": 0
      },
      "text/plain": [
       "VBox()"
      ]
     },
     "metadata": {},
     "output_type": "display_data"
    },
    {
     "data": {
      "application/vnd.jupyter.widget-view+json": {
       "model_id": "",
       "version_major": 2,
       "version_minor": 0
      },
      "text/plain": [
       "FloatProgress(value=0.0, bar_style='info', description='Progress:', layout=Layout(height='25px', width='50%'),…"
      ]
     },
     "metadata": {},
     "output_type": "display_data"
    },
    {
     "name": "stdout",
     "output_type": "stream",
     "text": [
      "+--------------+------------+-------+--------------------+\n",
      "|Country/Region|sum(4/27/20)|  total|             percent|\n",
      "+--------------+------------+-------+--------------------+\n",
      "|          Chad|          46|3023722|0.001521303876480...|\n",
      "|      Paraguay|         228|3023722|0.007540375735600...|\n",
      "|        Russia|       87147|3023722|   2.882110193992702|\n",
      "|         Yemen|           1|3023722|3.307182340175452...|\n",
      "|       Senegal|         736|3023722| 0.02434086202369133|\n",
      "|    Cabo Verde|         109|3023722|0.003604828750791...|\n",
      "|        Sweden|       18926|3023722|  0.6259173297016062|\n",
      "|        Guyana|          74|3023722|0.002447314931729835|\n",
      "|       Eritrea|          39|3023722|0.001289801112668...|\n",
      "|   Philippines|        7777|3023722| 0.25719957059544496|\n",
      "|         Burma|         146|3023722|0.004828486216656161|\n",
      "|      Djibouti|        1035|3023722|0.034229337220815934|\n",
      "|      Malaysia|        5820|3023722| 0.19247801219821134|\n",
      "|     Singapore|       14423|3023722|  0.4769949089235055|\n",
      "|          Fiji|          18|3023722|5.952928212315815E-4|\n",
      "|        Turkey|      112261|3023722|   3.712675966904365|\n",
      "|        Malawi|          36|3023722|0.001190585642463163|\n",
      "|Western Sahara|           6|3023722|1.984309404105271...|\n",
      "|          Iraq|        1847|3023722| 0.06108365782304061|\n",
      "|       Germany|      158758|3023722|   5.250416539615745|\n",
      "+--------------+------------+-------+--------------------+\n",
      "only showing top 20 rows"
     ]
    }
   ],
   "source": [
    "import pyspark.sql.functions as f\n",
    "from pyspark.sql.window import Window\n",
    "df= confirmados.groupby('Country/Region').sum('4/27/20')\n",
    "Confirmados_Filtros = df\\\n",
    "  .withColumn('total', f.sum('sum(4/27/20)').over(Window.partitionBy()))\\\n",
    "  .withColumn('percent', (f.col('sum(4/27/20)')/f.col('total'))*100)\n",
    "Confirmados_Filtros.show()"
   ]
  },
  {
   "cell_type": "code",
   "execution_count": 79,
   "metadata": {},
   "outputs": [
    {
     "data": {
      "application/vnd.jupyter.widget-view+json": {
       "model_id": "c19afb4e5c49438ab7ffb035f843ca05",
       "version_major": 2,
       "version_minor": 0
      },
      "text/plain": [
       "VBox()"
      ]
     },
     "metadata": {},
     "output_type": "display_data"
    },
    {
     "data": {
      "application/vnd.jupyter.widget-view+json": {
       "model_id": "",
       "version_major": 2,
       "version_minor": 0
      },
      "text/plain": [
       "FloatProgress(value=0.0, bar_style='info', description='Progress:', layout=Layout(height='25px', width='50%'),…"
      ]
     },
     "metadata": {},
     "output_type": "display_data"
    }
   ],
   "source": [
    "Confirmados_Filtros.coalesce(1).write.save('s3://proyecto3-dataset-hcastro-mortiza/test/casos_confirmados_porcentaje', format='csv', header=True)"
   ]
  },
  {
   "cell_type": "code",
   "execution_count": 81,
   "metadata": {},
   "outputs": [
    {
     "data": {
      "application/vnd.jupyter.widget-view+json": {
       "model_id": "6c3deca89db74e47af0a3dc040548996",
       "version_major": 2,
       "version_minor": 0
      },
      "text/plain": [
       "VBox()"
      ]
     },
     "metadata": {},
     "output_type": "display_data"
    },
    {
     "data": {
      "application/vnd.jupyter.widget-view+json": {
       "model_id": "",
       "version_major": 2,
       "version_minor": 0
      },
      "text/plain": [
       "FloatProgress(value=0.0, bar_style='info', description='Progress:', layout=Layout(height='25px', width='50%'),…"
      ]
     },
     "metadata": {},
     "output_type": "display_data"
    }
   ],
   "source": [
    "\n",
    "import pyspark.sql.functions as f\n",
    "from pyspark.sql.window import Window\n",
    "df= muertos.groupby('Country/Region').sum('4/27/20')\n",
    "muertos_Filtros = df\\\n",
    "  .withColumn('total', f.sum('sum(4/27/20)').over(Window.partitionBy()))\\\n",
    "  .withColumn('percent', (f.col('sum(4/27/20)')/f.col('total'))*100)\n",
    "\n"
   ]
  },
  {
   "cell_type": "code",
   "execution_count": 82,
   "metadata": {},
   "outputs": [
    {
     "data": {
      "application/vnd.jupyter.widget-view+json": {
       "model_id": "5cd81cd3288c4316af748916ecf7b6f0",
       "version_major": 2,
       "version_minor": 0
      },
      "text/plain": [
       "VBox()"
      ]
     },
     "metadata": {},
     "output_type": "display_data"
    },
    {
     "data": {
      "application/vnd.jupyter.widget-view+json": {
       "model_id": "",
       "version_major": 2,
       "version_minor": 0
      },
      "text/plain": [
       "FloatProgress(value=0.0, bar_style='info', description='Progress:', layout=Layout(height='25px', width='50%'),…"
      ]
     },
     "metadata": {},
     "output_type": "display_data"
    }
   ],
   "source": [
    "muertos_Filtros.coalesce(1).write.save('s3://proyecto3-dataset-hcastro-mortiza/test/casos_muertos_porcentaje', format='csv', header=True)"
   ]
  },
  {
   "cell_type": "code",
   "execution_count": 17,
   "metadata": {},
   "outputs": [
    {
     "data": {
      "application/vnd.jupyter.widget-view+json": {
       "model_id": "c65f45c1ee0046489d39d937bbe86670",
       "version_major": 2,
       "version_minor": 0
      },
      "text/plain": [
       "VBox()"
      ]
     },
     "metadata": {},
     "output_type": "display_data"
    },
    {
     "data": {
      "application/vnd.jupyter.widget-view+json": {
       "model_id": "",
       "version_major": 2,
       "version_minor": 0
      },
      "text/plain": [
       "FloatProgress(value=0.0, bar_style='info', description='Progress:', layout=Layout(height='25px', width='50%'),…"
      ]
     },
     "metadata": {},
     "output_type": "display_data"
    }
   ],
   "source": [
    "Columnas_mundial = confirmados.columns\n",
    "Columnas_mundial.pop(0)\n",
    "Columnas_mundial.pop(0)\n",
    "Columnas_mundial.pop(0)\n",
    "Columnas_mundial.pop(0)\n",
    "ConfirmadosSeguimiento=confirmados.select(Columnas_mundial).groupBy().sum()\n",
    "#ConfirmadosSeguimiento.coalesce(1).write.save('s3://proyecto3-dataset-hcastro-mortiza/test/ConfirmadosSeguimiento', format='csv', header=True)"
   ]
  },
  {
   "cell_type": "code",
   "execution_count": 18,
   "metadata": {},
   "outputs": [
    {
     "data": {
      "application/vnd.jupyter.widget-view+json": {
       "model_id": "40a1d84bef29442b96fdd25c9d7153b9",
       "version_major": 2,
       "version_minor": 0
      },
      "text/plain": [
       "VBox()"
      ]
     },
     "metadata": {},
     "output_type": "display_data"
    },
    {
     "data": {
      "application/vnd.jupyter.widget-view+json": {
       "model_id": "",
       "version_major": 2,
       "version_minor": 0
      },
      "text/plain": [
       "FloatProgress(value=0.0, bar_style='info', description='Progress:', layout=Layout(height='25px', width='50%'),…"
      ]
     },
     "metadata": {},
     "output_type": "display_data"
    }
   ],
   "source": [
    "Columnas_mundial = recuperados.columns\n",
    "Columnas_mundial.pop(0)\n",
    "Columnas_mundial.pop(0)\n",
    "Columnas_mundial.pop(0)\n",
    "Columnas_mundial.pop(0)\n",
    "recuperadoSeguimiento=recuperados.select(Columnas_mundial).groupBy().sum()\n",
    "#recuperadoSeguimiento.coalesce(1).write.save('s3://proyecto3-dataset-hcastro-mortiza/test/recuperadosSeguimiento', format='csv', header=True)"
   ]
  },
  {
   "cell_type": "code",
   "execution_count": 19,
   "metadata": {},
   "outputs": [
    {
     "data": {
      "application/vnd.jupyter.widget-view+json": {
       "model_id": "65ee39706c5f4d10b5a0884f403c76bd",
       "version_major": 2,
       "version_minor": 0
      },
      "text/plain": [
       "VBox()"
      ]
     },
     "metadata": {},
     "output_type": "display_data"
    },
    {
     "data": {
      "application/vnd.jupyter.widget-view+json": {
       "model_id": "",
       "version_major": 2,
       "version_minor": 0
      },
      "text/plain": [
       "FloatProgress(value=0.0, bar_style='info', description='Progress:', layout=Layout(height='25px', width='50%'),…"
      ]
     },
     "metadata": {},
     "output_type": "display_data"
    },
    {
     "name": "stdout",
     "output_type": "stream",
     "text": [
      "DataFrame[sum(1/22/20): bigint, sum(1/23/20): bigint, sum(1/24/20): bigint, sum(1/25/20): bigint, sum(1/26/20): bigint, sum(1/27/20): bigint, sum(1/28/20): bigint, sum(1/29/20): bigint, sum(1/30/20): bigint, sum(1/31/20): bigint, sum(2/1/20): bigint, sum(2/2/20): bigint, sum(2/3/20): bigint, sum(2/4/20): bigint, sum(2/5/20): bigint, sum(2/6/20): bigint, sum(2/7/20): bigint, sum(2/8/20): bigint, sum(2/9/20): bigint, sum(2/10/20): bigint, sum(2/11/20): bigint, sum(2/12/20): bigint, sum(2/13/20): bigint, sum(2/14/20): bigint, sum(2/15/20): bigint, sum(2/16/20): bigint, sum(2/17/20): bigint, sum(2/18/20): bigint, sum(2/19/20): bigint, sum(2/20/20): bigint, sum(2/21/20): bigint, sum(2/22/20): bigint, sum(2/23/20): bigint, sum(2/24/20): bigint, sum(2/25/20): bigint, sum(2/26/20): bigint, sum(2/27/20): bigint, sum(2/28/20): bigint, sum(2/29/20): bigint, sum(3/1/20): bigint, sum(3/2/20): bigint, sum(3/3/20): bigint, sum(3/4/20): bigint, sum(3/5/20): bigint, sum(3/6/20): bigint, sum(3/7/20): bigint, sum(3/8/20): bigint, sum(3/9/20): bigint, sum(3/10/20): bigint, sum(3/11/20): bigint, sum(3/12/20): bigint, sum(3/13/20): bigint, sum(3/14/20): bigint, sum(3/15/20): bigint, sum(3/16/20): bigint, sum(3/17/20): bigint, sum(3/18/20): bigint, sum(3/19/20): bigint, sum(3/20/20): bigint, sum(3/21/20): bigint, sum(3/22/20): bigint, sum(3/23/20): bigint, sum(3/24/20): bigint, sum(3/25/20): bigint, sum(3/26/20): bigint, sum(3/27/20): bigint, sum(3/28/20): bigint, sum(3/29/20): bigint, sum(3/30/20): bigint, sum(3/31/20): bigint, sum(4/1/20): bigint, sum(4/2/20): bigint, sum(4/3/20): bigint, sum(4/4/20): bigint, sum(4/5/20): bigint, sum(4/6/20): bigint, sum(4/7/20): bigint, sum(4/8/20): bigint, sum(4/9/20): bigint, sum(4/10/20): bigint, sum(4/11/20): bigint, sum(4/12/20): bigint, sum(4/13/20): bigint, sum(4/14/20): bigint, sum(4/15/20): bigint, sum(4/16/20): bigint, sum(4/17/20): bigint, sum(4/18/20): bigint, sum(4/19/20): bigint, sum(4/20/20): bigint, sum(4/21/20): bigint, sum(4/22/20): bigint, sum(4/23/20): bigint, sum(4/24/20): bigint, sum(4/25/20): bigint, sum(4/26/20): bigint, sum(4/27/20): bigint, sum(4/28/20): bigint, sum(4/29/20): bigint, sum(4/30/20): bigint, sum(5/1/20): bigint, sum(5/2/20): bigint, sum(5/3/20): bigint, sum(5/4/20): bigint, sum(5/5/20): bigint, sum(5/6/20): bigint, sum(5/7/20): bigint, sum(5/8/20): bigint]"
     ]
    }
   ],
   "source": [
    "Columnas_mundial = muertos.columns\n",
    "Columnas_mundial.pop(0)\n",
    "Columnas_mundial.pop(0)\n",
    "Columnas_mundial.pop(0)\n",
    "Columnas_mundial.pop(0)\n",
    "muertos.select(Columnas_mundial).groupBy().sum()\n",
    "#muertos.coalesce(1).write.save('s3://proyecto3-dataset-hcastro-mortiza/test/muertosSeguimiento', format='csv', header=True)"
   ]
  },
  {
   "cell_type": "code",
   "execution_count": 89,
   "metadata": {},
   "outputs": [
    {
     "data": {
      "application/vnd.jupyter.widget-view+json": {
       "model_id": "607de54bc9274b359fc66c6c06e1759c",
       "version_major": 2,
       "version_minor": 0
      },
      "text/plain": [
       "VBox()"
      ]
     },
     "metadata": {},
     "output_type": "display_data"
    },
    {
     "data": {
      "application/vnd.jupyter.widget-view+json": {
       "model_id": "",
       "version_major": 2,
       "version_minor": 0
      },
      "text/plain": [
       "FloatProgress(value=0.0, bar_style='info', description='Progress:', layout=Layout(height='25px', width='50%'),…"
      ]
     },
     "metadata": {},
     "output_type": "display_data"
    },
    {
     "name": "stdout",
     "output_type": "stream",
     "text": [
      "10052"
     ]
    }
   ],
   "source": [
    "Numero_Contagios_Colombia=ColombiaDatos.count()\n",
    "Numero_Contagios_Colombia"
   ]
  },
  {
   "cell_type": "code",
   "execution_count": 31,
   "metadata": {},
   "outputs": [
    {
     "data": {
      "application/vnd.jupyter.widget-view+json": {
       "model_id": "747940c7eb5f411eaf97d83c02b692bc",
       "version_major": 2,
       "version_minor": 0
      },
      "text/plain": [
       "VBox()"
      ]
     },
     "metadata": {},
     "output_type": "display_data"
    },
    {
     "data": {
      "application/vnd.jupyter.widget-view+json": {
       "model_id": "",
       "version_major": 2,
       "version_minor": 0
      },
      "text/plain": [
       "FloatProgress(value=0.0, bar_style='info', description='Progress:', layout=Layout(height='25px', width='50%'),…"
      ]
     },
     "metadata": {},
     "output_type": "display_data"
    },
    {
     "name": "stdout",
     "output_type": "stream",
     "text": [
      "root\n",
      " |-- ID de caso: string (nullable = true)\n",
      " |-- Fecha de notificación: string (nullable = true)\n",
      " |-- Codigo DIVIPOLA: string (nullable = true)\n",
      " |-- Ciudad de ubicación: string (nullable = true)\n",
      " |-- Departamento o Distrito : string (nullable = true)\n",
      " |-- atención: string (nullable = true)\n",
      " |-- Edad: string (nullable = true)\n",
      " |-- Sexo: string (nullable = true)\n",
      " |-- Tipo: string (nullable = true)\n",
      " |-- Estado: string (nullable = true)\n",
      " |-- País de procedencia: string (nullable = true)\n",
      " |-- FIS: string (nullable = true)\n",
      " |-- Fecha de muerte: string (nullable = true)\n",
      " |-- Fecha diagnostico: string (nullable = true)\n",
      " |-- Fecha recuperado: string (nullable = true)\n",
      " |-- fecha reporte web: string (nullable = true)"
     ]
    }
   ],
   "source": [
    "ColombiaDatos.printSchema()"
   ]
  },
  {
   "cell_type": "code",
   "execution_count": 43,
   "metadata": {},
   "outputs": [
    {
     "data": {
      "application/vnd.jupyter.widget-view+json": {
       "model_id": "72ba45b891a0443a98ee9f30e8e40113",
       "version_major": 2,
       "version_minor": 0
      },
      "text/plain": [
       "VBox()"
      ]
     },
     "metadata": {},
     "output_type": "display_data"
    },
    {
     "data": {
      "application/vnd.jupyter.widget-view+json": {
       "model_id": "",
       "version_major": 2,
       "version_minor": 0
      },
      "text/plain": [
       "FloatProgress(value=0.0, bar_style='info', description='Progress:', layout=Layout(height='25px', width='50%'),…"
      ]
     },
     "metadata": {},
     "output_type": "display_data"
    }
   ],
   "source": [
    "from pyspark.sql.functions import lit\n",
    "contagiosColombia=ColombiaDatos.count()\n",
    "colombia_cases = spark.createDataFrame([\n",
    "        (contagiosColombia ,'COL'),\n",
    "    ],['col1','Pais'] )\n",
    "colombia_cases.coalesce(1).write.save('s3://proyecto3-dataset-hcastro-mortiza/test/CasosColombiaTotales', format='csv', header=True)"
   ]
  },
  {
   "cell_type": "code",
   "execution_count": 44,
   "metadata": {},
   "outputs": [
    {
     "data": {
      "application/vnd.jupyter.widget-view+json": {
       "model_id": "edb7bbd0387d4e93b9ce6e4603466031",
       "version_major": 2,
       "version_minor": 0
      },
      "text/plain": [
       "VBox()"
      ]
     },
     "metadata": {},
     "output_type": "display_data"
    },
    {
     "data": {
      "application/vnd.jupyter.widget-view+json": {
       "model_id": "",
       "version_major": 2,
       "version_minor": 0
      },
      "text/plain": [
       "FloatProgress(value=0.0, bar_style='info', description='Progress:', layout=Layout(height='25px', width='50%'),…"
      ]
     },
     "metadata": {},
     "output_type": "display_data"
    }
   ],
   "source": [
    "SinRecuperar=ColombiaDatos.filter(ColombiaDatos['Fecha recuperado']== \"-   -\").count()\n",
    "\n",
    "\n",
    "from pyspark.sql.functions import lit\n",
    "contagiosColombia=SinRecuperar\n",
    "colombia_cases = spark.createDataFrame([\n",
    "        (contagiosColombia ,'COL'),\n",
    "    ],['col1','Pais'] )\n",
    "colombia_cases.coalesce(1).write.save('s3://proyecto3-dataset-hcastro-mortiza/test/CasosSinRecuperar', format='csv', header=True)"
   ]
  },
  {
   "cell_type": "code",
   "execution_count": null,
   "metadata": {},
   "outputs": [],
   "source": []
  },
  {
   "cell_type": "code",
   "execution_count": 45,
   "metadata": {},
   "outputs": [
    {
     "data": {
      "application/vnd.jupyter.widget-view+json": {
       "model_id": "83c374cd64e24f4f96bf3280798643f4",
       "version_major": 2,
       "version_minor": 0
      },
      "text/plain": [
       "VBox()"
      ]
     },
     "metadata": {},
     "output_type": "display_data"
    },
    {
     "data": {
      "application/vnd.jupyter.widget-view+json": {
       "model_id": "",
       "version_major": 2,
       "version_minor": 0
      },
      "text/plain": [
       "FloatProgress(value=0.0, bar_style='info', description='Progress:', layout=Layout(height='25px', width='50%'),…"
      ]
     },
     "metadata": {},
     "output_type": "display_data"
    }
   ],
   "source": [
    "Recuperados=ColombiaDatos.filter(ColombiaDatos['Fecha recuperado']!= \"-   -\").count()\n",
    "\n",
    "from pyspark.sql.functions import lit\n",
    "RecuperadosColombia=Recuperados\n",
    "colombia_recovered = spark.createDataFrame([\n",
    "        (RecuperadosColombia ,'COL'),\n",
    "    ],['col1','Pais'] )\n",
    "colombia_recovered.coalesce(1).write.save('s3://proyecto3-dataset-hcastro-mortiza/test/CasosRecuperados', format='csv', header=True)"
   ]
  },
  {
   "cell_type": "code",
   "execution_count": 49,
   "metadata": {},
   "outputs": [
    {
     "data": {
      "application/vnd.jupyter.widget-view+json": {
       "model_id": "8e2bdd77dfcd43dc9360ecc0d43137ab",
       "version_major": 2,
       "version_minor": 0
      },
      "text/plain": [
       "VBox()"
      ]
     },
     "metadata": {},
     "output_type": "display_data"
    },
    {
     "data": {
      "application/vnd.jupyter.widget-view+json": {
       "model_id": "",
       "version_major": 2,
       "version_minor": 0
      },
      "text/plain": [
       "FloatProgress(value=0.0, bar_style='info', description='Progress:', layout=Layout(height='25px', width='50%'),…"
      ]
     },
     "metadata": {},
     "output_type": "display_data"
    }
   ],
   "source": [
    "muertos=ColombiaDatos.filter(ColombiaDatos['Fecha de muerte']!= \"-   -\").count()\n",
    "\n",
    "from pyspark.sql.functions import lit\n",
    "muertosColombia=muertos\n",
    "colombia_deaths = spark.createDataFrame([\n",
    "        (muertosColombia ,'COL'),\n",
    "    ],['col1','Pais'] )\n",
    "colombia_deaths.coalesce(1).write.save('s3://proyecto3-dataset-hcastro-mortiza/test/Casosmuertos', format='csv', header=True)"
   ]
  },
  {
   "cell_type": "code",
   "execution_count": 24,
   "metadata": {},
   "outputs": [
    {
     "data": {
      "application/vnd.jupyter.widget-view+json": {
       "model_id": "b60e57ab3a004c51991595d333c3702b",
       "version_major": 2,
       "version_minor": 0
      },
      "text/plain": [
       "VBox()"
      ]
     },
     "metadata": {},
     "output_type": "display_data"
    },
    {
     "data": {
      "application/vnd.jupyter.widget-view+json": {
       "model_id": "",
       "version_major": 2,
       "version_minor": 0
      },
      "text/plain": [
       "FloatProgress(value=0.0, bar_style='info', description='Progress:', layout=Layout(height='25px', width='50%'),…"
      ]
     },
     "metadata": {},
     "output_type": "display_data"
    },
    {
     "name": "stderr",
     "output_type": "stream",
     "text": [
      "'path s3://proyecto3-dataset-hcastro-mortiza/test/confirmados departamento already exists.;'\n",
      "Traceback (most recent call last):\n",
      "  File \"/usr/lib/spark/python/lib/pyspark.zip/pyspark/sql/readwriter.py\", line 738, in save\n",
      "    self._jwrite.save(path)\n",
      "  File \"/usr/lib/spark/python/lib/py4j-0.10.7-src.zip/py4j/java_gateway.py\", line 1257, in __call__\n",
      "    answer, self.gateway_client, self.target_id, self.name)\n",
      "  File \"/usr/lib/spark/python/lib/pyspark.zip/pyspark/sql/utils.py\", line 69, in deco\n",
      "    raise AnalysisException(s.split(': ', 1)[1], stackTrace)\n",
      "pyspark.sql.utils.AnalysisException: 'path s3://proyecto3-dataset-hcastro-mortiza/test/confirmados departamento already exists.;'\n",
      "\n"
     ]
    }
   ],
   "source": [
    "colombia_departamento = ColombiaDatos.groupBy('Departamento o Distrito ').count()\n",
    "colombia_departamento.coalesce(1).write.save('s3://proyecto3-dataset-hcastro-mortiza/test/confirmados departamento', format='csv', header=True)"
   ]
  },
  {
   "cell_type": "code",
   "execution_count": 50,
   "metadata": {},
   "outputs": [
    {
     "data": {
      "application/vnd.jupyter.widget-view+json": {
       "model_id": "3add6f5351a644da855eae36781cac49",
       "version_major": 2,
       "version_minor": 0
      },
      "text/plain": [
       "VBox()"
      ]
     },
     "metadata": {},
     "output_type": "display_data"
    },
    {
     "data": {
      "application/vnd.jupyter.widget-view+json": {
       "model_id": "",
       "version_major": 2,
       "version_minor": 0
      },
      "text/plain": [
       "FloatProgress(value=0.0, bar_style='info', description='Progress:', layout=Layout(height='25px', width='50%'),…"
      ]
     },
     "metadata": {},
     "output_type": "display_data"
    }
   ],
   "source": [
    "TerceraEdad=ColombiaDatos.filter(ColombiaDatos['Edad']>=60).count()\n",
    "\n",
    "from pyspark.sql.functions import lit\n",
    "terceraedadcol=TerceraEdad\n",
    "colombia_ages = spark.createDataFrame([\n",
    "        (terceraedadcol ,'COL'),\n",
    "    ],['col1','Pais'] )\n",
    "colombia_ages.coalesce(1).write.save('s3://proyecto3-dataset-hcastro-mortiza/test/CasosTerceraEdad', format='csv', header=True)"
   ]
  },
  {
   "cell_type": "code",
   "execution_count": 51,
   "metadata": {},
   "outputs": [
    {
     "data": {
      "application/vnd.jupyter.widget-view+json": {
       "model_id": "4d925567db71431d87c2d5899a8d1cbb",
       "version_major": 2,
       "version_minor": 0
      },
      "text/plain": [
       "VBox()"
      ]
     },
     "metadata": {},
     "output_type": "display_data"
    },
    {
     "data": {
      "application/vnd.jupyter.widget-view+json": {
       "model_id": "",
       "version_major": 2,
       "version_minor": 0
      },
      "text/plain": [
       "FloatProgress(value=0.0, bar_style='info', description='Progress:', layout=Layout(height='25px', width='50%'),…"
      ]
     },
     "metadata": {},
     "output_type": "display_data"
    }
   ],
   "source": [
    "niñosAdultos = ColombiaDatos.filter((ColombiaDatos['Edad']<= 18) | (ColombiaDatos['Edad']>60)).count()\n",
    "from pyspark.sql.functions import lit\n",
    "niñoadultocol=niñosAdultos\n",
    "colombia_kidsold = spark.createDataFrame([\n",
    "        (niñoadultocol ,'COL'),\n",
    "    ],['col1','Pais'] )\n",
    "colombia_kidsold.coalesce(1).write.save('s3://proyecto3-dataset-hcastro-mortiza/test/Casosniñosviejos', format='csv', header=True)\n"
   ]
  },
  {
   "cell_type": "code",
   "execution_count": 46,
   "metadata": {},
   "outputs": [
    {
     "data": {
      "application/vnd.jupyter.widget-view+json": {
       "model_id": "9d7a7b87e1e9488585f7d26bca4ae9b0",
       "version_major": 2,
       "version_minor": 0
      },
      "text/plain": [
       "VBox()"
      ]
     },
     "metadata": {},
     "output_type": "display_data"
    },
    {
     "data": {
      "application/vnd.jupyter.widget-view+json": {
       "model_id": "",
       "version_major": 2,
       "version_minor": 0
      },
      "text/plain": [
       "FloatProgress(value=0.0, bar_style='info', description='Progress:', layout=Layout(height='25px', width='50%'),…"
      ]
     },
     "metadata": {},
     "output_type": "display_data"
    }
   ],
   "source": [
    "from pyspark.sql.functions import desc, asc, col\n",
    "colombiaContagiosDiario = ColombiaDatos.groupBy('Fecha de notificación').count().sort(col('Fecha de notificación'))"
   ]
  },
  {
   "cell_type": "code",
   "execution_count": 47,
   "metadata": {},
   "outputs": [
    {
     "data": {
      "application/vnd.jupyter.widget-view+json": {
       "model_id": "d858cadc65334cdda404229b58f825c7",
       "version_major": 2,
       "version_minor": 0
      },
      "text/plain": [
       "VBox()"
      ]
     },
     "metadata": {},
     "output_type": "display_data"
    },
    {
     "data": {
      "application/vnd.jupyter.widget-view+json": {
       "model_id": "",
       "version_major": 2,
       "version_minor": 0
      },
      "text/plain": [
       "FloatProgress(value=0.0, bar_style='info', description='Progress:', layout=Layout(height='25px', width='50%'),…"
      ]
     },
     "metadata": {},
     "output_type": "display_data"
    },
    {
     "name": "stdout",
     "output_type": "stream",
     "text": [
      "+---------------------+-----+------+\n",
      "|Fecha de notificación|count|cumsum|\n",
      "+---------------------+-----+------+\n",
      "|   #date+notification|    1|     1|\n",
      "| 2020-03-02T00:00:...|    1|     2|\n",
      "| 2020-03-06T00:00:...|    1|     3|\n",
      "| 2020-03-07T00:00:...|    1|     4|\n",
      "| 2020-03-08T00:00:...|    2|     6|\n",
      "| 2020-03-09T00:00:...|    3|     9|\n",
      "| 2020-03-10T00:00:...|    4|    13|\n",
      "| 2020-03-11T00:00:...|    8|    21|\n",
      "| 2020-03-12T00:00:...|   12|    33|\n",
      "| 2020-03-13T00:00:...|   13|    46|\n",
      "| 2020-03-14T00:00:...|   20|    66|\n",
      "| 2020-03-15T00:00:...|   19|    85|\n",
      "| 2020-03-16T00:00:...|   28|   113|\n",
      "| 2020-03-17T00:00:...|   42|   155|\n",
      "| 2020-03-18T00:00:...|   44|   199|\n",
      "| 2020-03-19T00:00:...|   70|   269|\n",
      "| 2020-03-20T00:00:...|   76|   345|\n",
      "| 2020-03-21T00:00:...|   77|   422|\n",
      "| 2020-03-22T00:00:...|   81|   503|\n",
      "| 2020-03-23T00:00:...|   93|   596|\n",
      "+---------------------+-----+------+\n",
      "only showing top 20 rows"
     ]
    }
   ],
   "source": [
    "from pyspark.sql import functions as f\n",
    "import sys\n",
    "cum_sum = colombiaContagiosDiario.withColumn('cumsum', f.sum(colombiaContagiosDiario[\"count\"]).over(Window.partitionBy().orderBy().rowsBetween(-sys.maxsize, 0)))\n",
    "cum_sum.show()"
   ]
  },
  {
   "cell_type": "code",
   "execution_count": 54,
   "metadata": {},
   "outputs": [
    {
     "data": {
      "application/vnd.jupyter.widget-view+json": {
       "model_id": "ba3e20fc49ae4c85841669bfe729212a",
       "version_major": 2,
       "version_minor": 0
      },
      "text/plain": [
       "VBox()"
      ]
     },
     "metadata": {},
     "output_type": "display_data"
    },
    {
     "name": "stderr",
     "output_type": "stream",
     "text": [
      "An error was encountered:\n",
      "Invalid status code '404' from https://172.31.55.223:18888/sessions/0 with error payload: {\"msg\":\"Session '0' not found.\"}\n"
     ]
    }
   ],
   "source": [
    "import pandas as pd \n",
    "world_df = pd.read_csv('s3://proyecto3-dataset-hcastro-mortiza/test/ConfirmadosSeguimiento/part-00000-34f9095c-6cd8-423f-899b-ea7d053ac0aa-c000.csv')"
   ]
  },
  {
   "cell_type": "code",
   "execution_count": null,
   "metadata": {},
   "outputs": [],
   "source": [
    "world_df."
   ]
  }
 ],
 "metadata": {
  "kernelspec": {
   "display_name": "PySpark",
   "language": "",
   "name": "pysparkkernel"
  },
  "language_info": {
   "codemirror_mode": {
    "name": "python",
    "version": 2
   },
   "mimetype": "text/x-python",
   "name": "pyspark",
   "pygments_lexer": "python2"
  }
 },
 "nbformat": 4,
 "nbformat_minor": 4
}
